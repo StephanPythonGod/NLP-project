{
 "cells": [
  {
   "cell_type": "markdown",
   "id": "bec3b26a",
   "metadata": {},
   "source": [
    "Inspired by https://github.com/susanli2016/Machine-Learning-with-Python/blob/master/machine%20learning%20spaCy.ipynb\n",
    "and https://www.kaggle.com/mrudhuhas/text-classification-spacy/notebook"
   ]
  },
  {
   "cell_type": "code",
   "execution_count": 2,
   "id": "8798c0dd",
   "metadata": {},
   "outputs": [],
   "source": [
    "import pandas as pd\n",
    "import numpy as np"
   ]
  },
  {
   "cell_type": "code",
   "execution_count": 259,
   "id": "a674ba1a",
   "metadata": {},
   "outputs": [],
   "source": [
    "df = pd.read_csv(\"output_forbes.csv\", \"\\t\")\n",
    "#df = pd.read_csv(\"ouput.csv\", \"\\t\")"
   ]
  },
  {
   "cell_type": "code",
   "execution_count": 260,
   "id": "9433f890",
   "metadata": {},
   "outputs": [
    {
     "data": {
      "text/plain": [
       "(2000, 10)"
      ]
     },
     "execution_count": 260,
     "metadata": {},
     "output_type": "execute_result"
    }
   ],
   "source": [
    "df.shape"
   ]
  },
  {
   "cell_type": "code",
   "execution_count": 261,
   "id": "c0236707",
   "metadata": {},
   "outputs": [
    {
     "data": {
      "text/html": [
       "<div>\n",
       "<style scoped>\n",
       "    .dataframe tbody tr th:only-of-type {\n",
       "        vertical-align: middle;\n",
       "    }\n",
       "\n",
       "    .dataframe tbody tr th {\n",
       "        vertical-align: top;\n",
       "    }\n",
       "\n",
       "    .dataframe thead th {\n",
       "        text-align: right;\n",
       "    }\n",
       "</style>\n",
       "<table border=\"1\" class=\"dataframe\">\n",
       "  <thead>\n",
       "    <tr style=\"text-align: right;\">\n",
       "      <th></th>\n",
       "      <th>Unnamed: 0</th>\n",
       "      <th>Rank</th>\n",
       "      <th>Company</th>\n",
       "      <th>Country</th>\n",
       "      <th>Sales</th>\n",
       "      <th>Assets</th>\n",
       "      <th>Market Value</th>\n",
       "      <th>Sector</th>\n",
       "      <th>Industry</th>\n",
       "      <th>Snippet</th>\n",
       "    </tr>\n",
       "  </thead>\n",
       "  <tbody>\n",
       "    <tr>\n",
       "      <th>0</th>\n",
       "      <td>0</td>\n",
       "      <td>1</td>\n",
       "      <td>ICBC</td>\n",
       "      <td>China</td>\n",
       "      <td>151.4</td>\n",
       "      <td>3473.2</td>\n",
       "      <td>229.8</td>\n",
       "      <td>Financials</td>\n",
       "      <td>Major Banks</td>\n",
       "      <td>Die Industrial and Commercial Bank of China Li...</td>\n",
       "    </tr>\n",
       "    <tr>\n",
       "      <th>1</th>\n",
       "      <td>1</td>\n",
       "      <td>2</td>\n",
       "      <td>China Construction Bank</td>\n",
       "      <td>China</td>\n",
       "      <td>134.2</td>\n",
       "      <td>3016.6</td>\n",
       "      <td>200.5</td>\n",
       "      <td>Financials</td>\n",
       "      <td>Regional Banks</td>\n",
       "      <td>Die China Construction Bank ist eine der vier ...</td>\n",
       "    </tr>\n",
       "    <tr>\n",
       "      <th>2</th>\n",
       "      <td>2</td>\n",
       "      <td>3</td>\n",
       "      <td>Berkshire Hathaway</td>\n",
       "      <td>United States</td>\n",
       "      <td>222.9</td>\n",
       "      <td>620.9</td>\n",
       "      <td>409.9</td>\n",
       "      <td>Financials</td>\n",
       "      <td>Investment Services</td>\n",
       "      <td>05.06.2020 · BERKSHIRE HATHAWAY AKTIE und aktu...</td>\n",
       "    </tr>\n",
       "    <tr>\n",
       "      <th>3</th>\n",
       "      <td>3</td>\n",
       "      <td>4</td>\n",
       "      <td>JPMorgan Chase</td>\n",
       "      <td>United States</td>\n",
       "      <td>102.5</td>\n",
       "      <td>2513</td>\n",
       "      <td>306.6</td>\n",
       "      <td>Financials</td>\n",
       "      <td>Major Banks</td>\n",
       "      <td>JPMorgan Chase &amp; Co.'s website terms, privacy ...</td>\n",
       "    </tr>\n",
       "    <tr>\n",
       "      <th>4</th>\n",
       "      <td>4</td>\n",
       "      <td>5</td>\n",
       "      <td>Wells Fargo</td>\n",
       "      <td>United States</td>\n",
       "      <td>97.6</td>\n",
       "      <td>1943.4</td>\n",
       "      <td>274.4</td>\n",
       "      <td>Financials</td>\n",
       "      <td>Major Banks</td>\n",
       "      <td>https://www.wellsfargo.comWells Fargo does not...</td>\n",
       "    </tr>\n",
       "    <tr>\n",
       "      <th>5</th>\n",
       "      <td>5</td>\n",
       "      <td>6</td>\n",
       "      <td>Agricultural Bank of China</td>\n",
       "      <td>China</td>\n",
       "      <td>115.7</td>\n",
       "      <td>2816</td>\n",
       "      <td>149.2</td>\n",
       "      <td>Financials</td>\n",
       "      <td>Regional Banks</td>\n",
       "      <td>https://www.finanzen.net/aktien/agricultural_b...</td>\n",
       "    </tr>\n",
       "    <tr>\n",
       "      <th>6</th>\n",
       "      <td>6</td>\n",
       "      <td>7</td>\n",
       "      <td>Bank of America</td>\n",
       "      <td>United States</td>\n",
       "      <td>92.2</td>\n",
       "      <td>2196.8</td>\n",
       "      <td>231.9</td>\n",
       "      <td>Financials</td>\n",
       "      <td>Major Banks</td>\n",
       "      <td>https://www.bankofamerica.comBank of America P...</td>\n",
       "    </tr>\n",
       "    <tr>\n",
       "      <th>7</th>\n",
       "      <td>7</td>\n",
       "      <td>8</td>\n",
       "      <td>Bank of China</td>\n",
       "      <td>China</td>\n",
       "      <td>113.1</td>\n",
       "      <td>2611.5</td>\n",
       "      <td>141.3</td>\n",
       "      <td>Financials</td>\n",
       "      <td>Major Banks</td>\n",
       "      <td>https://www.bankofchina.com/de/deBank of China...</td>\n",
       "    </tr>\n",
       "    <tr>\n",
       "      <th>8</th>\n",
       "      <td>8</td>\n",
       "      <td>9</td>\n",
       "      <td>Apple</td>\n",
       "      <td>United States</td>\n",
       "      <td>217.5</td>\n",
       "      <td>331.1</td>\n",
       "      <td>752</td>\n",
       "      <td>Information Technology</td>\n",
       "      <td>Computer Hardware</td>\n",
       "      <td>https://www.apple.com/deApple Footer. 1. Finan...</td>\n",
       "    </tr>\n",
       "    <tr>\n",
       "      <th>9</th>\n",
       "      <td>9</td>\n",
       "      <td>10</td>\n",
       "      <td>Toyota Motor</td>\n",
       "      <td>Japan</td>\n",
       "      <td>249.9</td>\n",
       "      <td>412.5</td>\n",
       "      <td>171.9</td>\n",
       "      <td>Consumer Discretionary</td>\n",
       "      <td>Auto &amp; Truck Manufacturers</td>\n",
       "      <td>05.06.2020 · TOYOTA MOTOR AKTIE und aktueller ...</td>\n",
       "    </tr>\n",
       "  </tbody>\n",
       "</table>\n",
       "</div>"
      ],
      "text/plain": [
       "   Unnamed: 0   Rank                     Company        Country  Sales  \\\n",
       "0           0      1                        ICBC          China  151.4   \n",
       "1           1      2     China Construction Bank          China  134.2   \n",
       "2           2      3          Berkshire Hathaway  United States  222.9   \n",
       "3           3      4              JPMorgan Chase  United States  102.5   \n",
       "4           4      5                 Wells Fargo  United States   97.6   \n",
       "5           5      6  Agricultural Bank of China          China  115.7   \n",
       "6           6      7             Bank of America  United States   92.2   \n",
       "7           7      8               Bank of China          China  113.1   \n",
       "8           8      9                       Apple  United States  217.5   \n",
       "9           9     10                Toyota Motor          Japan  249.9   \n",
       "\n",
       "   Assets Market Value                  Sector                    Industry  \\\n",
       "0  3473.2        229.8              Financials                 Major Banks   \n",
       "1  3016.6        200.5              Financials              Regional Banks   \n",
       "2   620.9        409.9              Financials         Investment Services   \n",
       "3    2513        306.6              Financials                 Major Banks   \n",
       "4  1943.4        274.4              Financials                 Major Banks   \n",
       "5    2816        149.2              Financials              Regional Banks   \n",
       "6  2196.8        231.9              Financials                 Major Banks   \n",
       "7  2611.5        141.3              Financials                 Major Banks   \n",
       "8   331.1          752  Information Technology           Computer Hardware   \n",
       "9   412.5        171.9  Consumer Discretionary  Auto & Truck Manufacturers   \n",
       "\n",
       "                                             Snippet  \n",
       "0  Die Industrial and Commercial Bank of China Li...  \n",
       "1  Die China Construction Bank ist eine der vier ...  \n",
       "2  05.06.2020 · BERKSHIRE HATHAWAY AKTIE und aktu...  \n",
       "3  JPMorgan Chase & Co.'s website terms, privacy ...  \n",
       "4  https://www.wellsfargo.comWells Fargo does not...  \n",
       "5  https://www.finanzen.net/aktien/agricultural_b...  \n",
       "6  https://www.bankofamerica.comBank of America P...  \n",
       "7  https://www.bankofchina.com/de/deBank of China...  \n",
       "8  https://www.apple.com/deApple Footer. 1. Finan...  \n",
       "9  05.06.2020 · TOYOTA MOTOR AKTIE und aktueller ...  "
      ]
     },
     "execution_count": 261,
     "metadata": {},
     "output_type": "execute_result"
    }
   ],
   "source": [
    "df.head(10)"
   ]
  },
  {
   "cell_type": "code",
   "execution_count": 262,
   "id": "04bc7a8a",
   "metadata": {},
   "outputs": [],
   "source": [
    "df = df.dropna()"
   ]
  },
  {
   "cell_type": "code",
   "execution_count": 263,
   "id": "fe89a13c",
   "metadata": {},
   "outputs": [
    {
     "data": {
      "text/plain": [
       "(1290, 10)"
      ]
     },
     "execution_count": 263,
     "metadata": {},
     "output_type": "execute_result"
    }
   ],
   "source": [
    "df.shape"
   ]
  },
  {
   "cell_type": "code",
   "execution_count": 264,
   "id": "a9c3bf51",
   "metadata": {},
   "outputs": [
    {
     "data": {
      "text/plain": [
       "['Financials',\n",
       " 'Information Technology',\n",
       " 'Consumer Discretionary',\n",
       " 'Telecommunication Services',\n",
       " 'Industrials',\n",
       " 'Energy',\n",
       " 'Health Care',\n",
       " 'Consumer Staples',\n",
       " 'Materials',\n",
       " 'Utilities']"
      ]
     },
     "execution_count": 264,
     "metadata": {},
     "output_type": "execute_result"
    }
   ],
   "source": [
    "list(df[\"Sector\"].unique())"
   ]
  },
  {
   "cell_type": "code",
   "execution_count": 265,
   "id": "191c45f8",
   "metadata": {},
   "outputs": [],
   "source": [
    "from sklearn.model_selection import train_test_split\n",
    "train, test = train_test_split(df, test_size=0.20, random_state=42)"
   ]
  },
  {
   "cell_type": "code",
   "execution_count": 266,
   "id": "f7a82912",
   "metadata": {},
   "outputs": [
    {
     "name": "stdout",
     "output_type": "stream",
     "text": [
      "Company name sample: Carlsberg\n",
      "Company Bing-snippet: Carlsberg ist ein internationales Premium Lager nach Pilsener Brauart mit einem Alkoholgehalt von alc. 5,0% vol, erfrischend mit vollem Biergeschmack. Gebraut nach dem Deutschen Reinheitsgebot. Ecken. Kanten. Holsten. So muss ein Pils sein: herb und erfrischend im Geschmack durch erstklassige Zutaten. Hergestellt nach Hamburger Brautradition und dem deutschen Reinheitsgebot. Astra Urtyp ...\n",
      "Training Data Shape: (1032, 10)\n",
      "Testing Data Shape: (258, 10)\n"
     ]
    }
   ],
   "source": [
    "print('Company name sample:', train['Company'].iloc[0])\n",
    "print('Company Bing-snippet:', train['Snippet'].iloc[0])\n",
    "print('Training Data Shape:', train.shape)\n",
    "print('Testing Data Shape:', test.shape)"
   ]
  },
  {
   "cell_type": "code",
   "execution_count": 267,
   "id": "e94af714",
   "metadata": {},
   "outputs": [],
   "source": [
    "import seaborn as sns\n",
    "import matplotlib.pyplot as plt"
   ]
  },
  {
   "cell_type": "code",
   "execution_count": 268,
   "id": "7c909e45",
   "metadata": {},
   "outputs": [
    {
     "data": {
      "image/png": "[encoded data removed]",
      "text/plain": [
       "<Figure size 1600x400 with 1 Axes>"
      ]
     },
     "metadata": {},
     "output_type": "display_data"
    }
   ],
   "source": [
    "fig = plt.figure(figsize=(16,4))\n",
    "sns.barplot(x = train['Sector'].unique(), y=train['Sector'].value_counts())\n",
    "plt.show()"
   ]
  },
  {
   "cell_type": "markdown",
   "id": "cebf5a59",
   "metadata": {},
   "source": [
    "## Process\n",
    "\n",
    "1. Prepare Snippets  \n",
    "    a. all lowercase  \n",
    "    b. remove stopwords  \n",
    "    c. remove punctuations  \n",
    "    (OPTIONAL use only NOUNs and ADJs)  \n",
    "    d. lammatize  \n",
    "    (OPTIONAL create word embeddings)  \n",
    "2. Setup Models\n",
    "3. Train\n",
    "4. Evaluate"
   ]
  },
  {
   "cell_type": "markdown",
   "id": "6ccfe59e-22fa-484b-8c3b-8b52fab2710e",
   "metadata": {},
   "source": [
    "### Prepare Snippets"
   ]
  },
  {
   "cell_type": "code",
   "execution_count": 269,
   "id": "40d133f7",
   "metadata": {},
   "outputs": [],
   "source": [
    "import spacy\n",
    "from spacy import displacy\n",
    "\n",
    "# using the large model\n",
    "nlp = spacy.load('de_core_news_lg')"
   ]
  },
  {
   "cell_type": "code",
   "execution_count": 271,
   "id": "8c4f062e",
   "metadata": {},
   "outputs": [],
   "source": [
    "def prepare_snippets(snippet, raw_string_return = False, remove_int = False, lowercase = True, stopwords = True, punctuations = True, only_nouns_n_adjs = True, lammatize = True, reduce=True, word_embeddings = True):\n",
    "    if lowercase:\n",
    "        snippet = snippet.lower()\n",
    "    snippet = nlp(snippet)\n",
    "    if stopwords:\n",
    "        snippet = [word for word in snippet if word.is_stop == False]\n",
    "    if punctuations:\n",
    "        snippet = [word for word in snippet if word.is_punct == False]\n",
    "    if only_nouns_n_adjs:\n",
    "        snippet = [word for word in snippet if (word.pos_ == \"NOUN\" or word.pos_ == \"ADJ\")]\n",
    "    if lammatize:\n",
    "        snippet = [word.lemma_.strip() for word in snippet]\n",
    "    if reduce:\n",
    "        snippet = set(snippet)\n",
    "    if remove_int:\n",
    "        snippet = ''.join([i for i in snippet if not i.isdigit()])\n",
    "        try:\n",
    "            snippet = nlp(snippet)\n",
    "        except:\n",
    "            pass\n",
    "    try:\n",
    "        snippet = nlp(\" \".join(snippet))\n",
    "    except:\n",
    "        pass\n",
    "    if word_embeddings:\n",
    "        snippet = snippet.vector\n",
    "    \n",
    "    if raw_string_return:\n",
    "        return str(snippet.text)\n",
    "    \n",
    "    return snippet    "
   ]
  },
  {
   "cell_type": "code",
   "execution_count": 272,
   "id": "83fa92f0-e54f-4c60-aa51-058a88c5cc5c",
   "metadata": {},
   "outputs": [
    {
     "data": {
      "text/plain": [
       "neu energiequellen hinzugefügtdte geschäftsjahr elektrisch block erneuerbaren millionen einzig kernkraftwerk unternehmens kohleverstromung aktuell auswahl versorger us-amerikanischer kunden sitzen gas inhalt energie"
      ]
     },
     "execution_count": 272,
     "metadata": {},
     "output_type": "execute_result"
    }
   ],
   "source": [
    "prepare_snippets(train[\"Snippet\"].iloc[13], only_nouns_n_adjs = True, word_embeddings = False)"
   ]
  },
  {
   "cell_type": "code",
   "execution_count": 273,
   "id": "ce837afe",
   "metadata": {},
   "outputs": [],
   "source": [
    "def explore_snippet(text):    \n",
    "    doc=nlp(text)\n",
    "    print(f'Snippet : {doc}')\n",
    "    print(f'\\nTotal number of tokens : {len(doc)} \\n')\n",
    "\n",
    "    for token in doc:\n",
    "        print(token.text,end=' | ')\n",
    "        \n",
    "    print('\\n')\n",
    "    \n",
    "    for token in doc:\n",
    "        print(f'{token.text:{12}}{token.pos_:{10}}{token.dep_:{12}}{str(spacy.explain(token.dep_))}')\n",
    "    \n",
    "    print(f'\\nTotal number of Sentences : {len(list(doc.sents))}')\n",
    "    for sent in doc.sents:\n",
    "        print(sent)\n",
    "        \n",
    "    if len(doc.ents)>0:\n",
    "        print(f'\\nTotal number of Entity : {len(doc.ents)}\\n')    \n",
    "        for ent in doc.ents:\n",
    "             print(ent.text+' - '+ent.label_+' - '+str(spacy.explain(ent.label_)))\n",
    "        displacy.render(doc,style='ent',jupyter=True)\n",
    "    \n",
    "    displacy.render(doc,style='dep',jupyter=True,options={'distance': 80}) \n",
    "    \n",
    "def get_ents(text):\n",
    "    doc=nlp(text)\n",
    "    return len(doc.ents)\n",
    "def get_tokens(text):\n",
    "    doc=nlp(text)\n",
    "    return len(doc)\n",
    "def get_sents(text):\n",
    "    doc=nlp(text)\n",
    "    return len(list(doc.sents))"
   ]
  },
  {
   "cell_type": "code",
   "execution_count": 274,
   "id": "b6fdb9d9-03b5-4859-95d6-b3149b3923ee",
   "metadata": {
    "tags": []
   },
   "outputs": [
    {
     "name": "stdout",
     "output_type": "stream",
     "text": [
      "Snippet : 05.06.2020 · AMERICAN WATER WORKS AKTIE und aktueller Aktienkurs. Nachrichten zur Aktie American Water Works Co Inc | A0NJ38 | AWK | US0304201033\n",
      "\n",
      "Total number of tokens : 25 \n",
      "\n",
      "05.06.2020 |   | · | AMERICAN | WATER | WORKS | AKTIE | und | aktueller | Aktienkurs | . | Nachrichten | zur | Aktie | American | Water | Works | Co | Inc | | | A0NJ38 | | | AWK | | | US0304201033 | \n",
      "\n",
      "05.06.2020  NUM       ROOT        None\n",
      "            SPACE     ROOT        None\n",
      "·           ADJ       ROOT        None\n",
      "AMERICAN    PROPN     pnc         proper noun component\n",
      "WATER       PROPN     ROOT        None\n",
      "WORKS       ADV       pnc         proper noun component\n",
      "AKTIE       PROPN     ROOT        None\n",
      "und         CCONJ     cd          coordinating conjunction\n",
      "aktueller   ADJ       nk          noun kernel element\n",
      "Aktienkurs  NOUN      cj          conjunct\n",
      ".           PUNCT     punct       punctuation\n",
      "Nachrichten NOUN      ROOT        None\n",
      "zur         ADP       mnr         postnominal modifier\n",
      "Aktie       NOUN      nk          noun kernel element\n",
      "American    PROPN     pnc         proper noun component\n",
      "Water       PROPN     pnc         proper noun component\n",
      "Works       PROPN     pnc         proper noun component\n",
      "Co          PROPN     pnc         proper noun component\n",
      "Inc         PROPN     nk          noun kernel element\n",
      "|           PUNCT     punct       punctuation\n",
      "A0NJ38      PROPN     nk          noun kernel element\n",
      "|           PUNCT     punct       punctuation\n",
      "AWK         PROPN     app         apposition\n",
      "|           PUNCT     punct       punctuation\n",
      "US0304201033PROPN     ROOT        None\n",
      "\n",
      "Total number of Sentences : 7\n",
      "05.06.2020\n",
      " \n",
      "·\n",
      "AMERICAN WATER WORKS\n",
      "AKTIE und aktueller Aktienkurs.\n",
      "Nachrichten zur Aktie American Water Works Co Inc | A0NJ38 | AWK |\n",
      "US0304201033\n",
      "\n",
      "Total number of Entity : 4\n",
      "\n",
      "AMERICAN WATER - MISC - Miscellaneous entities, e.g. events, nationalities, products or works of art\n",
      "American Water Works Co Inc | A0NJ38 - ORG - Companies, agencies, institutions, etc.\n",
      "AWK - MISC - Miscellaneous entities, e.g. events, nationalities, products or works of art\n",
      "US0304201033 - MISC - Miscellaneous entities, e.g. events, nationalities, products or works of art\n"
     ]
    },
    {
     "data": {
      "text/html": [
       "<span class=\"tex2jax_ignore\"><div class=\"entities\" style=\"line-height: 2.5; direction: ltr\">05.06.2020 · \n",
       "<mark class=\"entity\" style=\"background: #ddd; padding: 0.45em 0.6em; margin: 0 0.25em; line-height: 1; border-radius: 0.35em;\">\n",
       "    AMERICAN WATER\n",
       "    <span style=\"font-size: 0.8em; font-weight: bold; line-height: 1; border-radius: 0.35em; vertical-align: middle; margin-left: 0.5rem\">MISC</span>\n",
       "</mark>\n",
       " WORKS AKTIE und aktueller Aktienkurs. Nachrichten zur Aktie \n",
       "<mark class=\"entity\" style=\"background: #7aecec; padding: 0.45em 0.6em; margin: 0 0.25em; line-height: 1; border-radius: 0.35em;\">\n",
       "    American Water Works Co Inc | A0NJ38\n",
       "    <span style=\"font-size: 0.8em; font-weight: bold; line-height: 1; border-radius: 0.35em; vertical-align: middle; margin-left: 0.5rem\">ORG</span>\n",
       "</mark>\n",
       " | \n",
       "<mark class=\"entity\" style=\"background: #ddd; padding: 0.45em 0.6em; margin: 0 0.25em; line-height: 1; border-radius: 0.35em;\">\n",
       "    AWK\n",
       "    <span style=\"font-size: 0.8em; font-weight: bold; line-height: 1; border-radius: 0.35em; vertical-align: middle; margin-left: 0.5rem\">MISC</span>\n",
       "</mark>\n",
       " | \n",
       "<mark class=\"entity\" style=\"background: #ddd; padding: 0.45em 0.6em; margin: 0 0.25em; line-height: 1; border-radius: 0.35em;\">\n",
       "    US0304201033\n",
       "    <span style=\"font-size: 0.8em; font-weight: bold; line-height: 1; border-radius: 0.35em; vertical-align: middle; margin-left: 0.5rem\">MISC</span>\n",
       "</mark>\n",
       "</div></span>"
      ],
      "text/plain": [
       "<IPython.core.display.HTML object>"
      ]
     },
     "metadata": {},
     "output_type": "display_data"
    },
    {
     "data": {
      "text/html": [
       "<span class=\"tex2jax_ignore\"><svg xmlns=\"http://www.w3.org/2000/svg\" xmlns:xlink=\"http://www.w3.org/1999/xlink\" xml:lang=\"de\" id=\"0241df6f407b4c3aa5623bfe8e043ecf-0\" class=\"displacy\" width=\"1890\" height=\"417.0\" direction=\"ltr\" style=\"max-width: none; height: 417.0px; color: #000000; background: #ffffff; font-family: Arial; direction: ltr\">\n",
       "<text class=\"displacy-token\" fill=\"currentColor\" text-anchor=\"middle\" y=\"327.0\">\n",
       "    <tspan class=\"displacy-word\" fill=\"currentColor\" x=\"50\">05.06.2020</tspan>\n",
       "    <tspan class=\"displacy-tag\" dy=\"2em\" fill=\"currentColor\" x=\"50\">NUM</tspan>\n",
       "</text>\n",
       "\n",
       "<text class=\"displacy-token\" fill=\"currentColor\" text-anchor=\"middle\" y=\"327.0\">\n",
       "    <tspan class=\"displacy-word\" fill=\"currentColor\" x=\"130\"> ·</tspan>\n",
       "    <tspan class=\"displacy-tag\" dy=\"2em\" fill=\"currentColor\" x=\"130\">SPACE</tspan>\n",
       "</text>\n",
       "\n",
       "<text class=\"displacy-token\" fill=\"currentColor\" text-anchor=\"middle\" y=\"327.0\">\n",
       "    <tspan class=\"displacy-word\" fill=\"currentColor\" x=\"210\">AMERICAN</tspan>\n",
       "    <tspan class=\"displacy-tag\" dy=\"2em\" fill=\"currentColor\" x=\"210\">PROPN</tspan>\n",
       "</text>\n",
       "\n",
       "<text class=\"displacy-token\" fill=\"currentColor\" text-anchor=\"middle\" y=\"327.0\">\n",
       "    <tspan class=\"displacy-word\" fill=\"currentColor\" x=\"290\">WATER</tspan>\n",
       "    <tspan class=\"displacy-tag\" dy=\"2em\" fill=\"currentColor\" x=\"290\">PROPN</tspan>\n",
       "</text>\n",
       "\n",
       "<text class=\"displacy-token\" fill=\"currentColor\" text-anchor=\"middle\" y=\"327.0\">\n",
       "    <tspan class=\"displacy-word\" fill=\"currentColor\" x=\"370\">WORKS</tspan>\n",
       "    <tspan class=\"displacy-tag\" dy=\"2em\" fill=\"currentColor\" x=\"370\">ADV</tspan>\n",
       "</text>\n",
       "\n",
       "<text class=\"displacy-token\" fill=\"currentColor\" text-anchor=\"middle\" y=\"327.0\">\n",
       "    <tspan class=\"displacy-word\" fill=\"currentColor\" x=\"450\">AKTIE</tspan>\n",
       "    <tspan class=\"displacy-tag\" dy=\"2em\" fill=\"currentColor\" x=\"450\">PROPN</tspan>\n",
       "</text>\n",
       "\n",
       "<text class=\"displacy-token\" fill=\"currentColor\" text-anchor=\"middle\" y=\"327.0\">\n",
       "    <tspan class=\"displacy-word\" fill=\"currentColor\" x=\"530\">und</tspan>\n",
       "    <tspan class=\"displacy-tag\" dy=\"2em\" fill=\"currentColor\" x=\"530\">CCONJ</tspan>\n",
       "</text>\n",
       "\n",
       "<text class=\"displacy-token\" fill=\"currentColor\" text-anchor=\"middle\" y=\"327.0\">\n",
       "    <tspan class=\"displacy-word\" fill=\"currentColor\" x=\"610\">aktueller</tspan>\n",
       "    <tspan class=\"displacy-tag\" dy=\"2em\" fill=\"currentColor\" x=\"610\">ADJ</tspan>\n",
       "</text>\n",
       "\n",
       "<text class=\"displacy-token\" fill=\"currentColor\" text-anchor=\"middle\" y=\"327.0\">\n",
       "    <tspan class=\"displacy-word\" fill=\"currentColor\" x=\"690\">Aktienkurs.</tspan>\n",
       "    <tspan class=\"displacy-tag\" dy=\"2em\" fill=\"currentColor\" x=\"690\">NOUN</tspan>\n",
       "</text>\n",
       "\n",
       "<text class=\"displacy-token\" fill=\"currentColor\" text-anchor=\"middle\" y=\"327.0\">\n",
       "    <tspan class=\"displacy-word\" fill=\"currentColor\" x=\"770\">Nachrichten</tspan>\n",
       "    <tspan class=\"displacy-tag\" dy=\"2em\" fill=\"currentColor\" x=\"770\">NOUN</tspan>\n",
       "</text>\n",
       "\n",
       "<text class=\"displacy-token\" fill=\"currentColor\" text-anchor=\"middle\" y=\"327.0\">\n",
       "    <tspan class=\"displacy-word\" fill=\"currentColor\" x=\"850\">zur</tspan>\n",
       "    <tspan class=\"displacy-tag\" dy=\"2em\" fill=\"currentColor\" x=\"850\">ADP</tspan>\n",
       "</text>\n",
       "\n",
       "<text class=\"displacy-token\" fill=\"currentColor\" text-anchor=\"middle\" y=\"327.0\">\n",
       "    <tspan class=\"displacy-word\" fill=\"currentColor\" x=\"930\">Aktie</tspan>\n",
       "    <tspan class=\"displacy-tag\" dy=\"2em\" fill=\"currentColor\" x=\"930\">NOUN</tspan>\n",
       "</text>\n",
       "\n",
       "<text class=\"displacy-token\" fill=\"currentColor\" text-anchor=\"middle\" y=\"327.0\">\n",
       "    <tspan class=\"displacy-word\" fill=\"currentColor\" x=\"1010\">American</tspan>\n",
       "    <tspan class=\"displacy-tag\" dy=\"2em\" fill=\"currentColor\" x=\"1010\">PROPN</tspan>\n",
       "</text>\n",
       "\n",
       "<text class=\"displacy-token\" fill=\"currentColor\" text-anchor=\"middle\" y=\"327.0\">\n",
       "    <tspan class=\"displacy-word\" fill=\"currentColor\" x=\"1090\">Water</tspan>\n",
       "    <tspan class=\"displacy-tag\" dy=\"2em\" fill=\"currentColor\" x=\"1090\">PROPN</tspan>\n",
       "</text>\n",
       "\n",
       "<text class=\"displacy-token\" fill=\"currentColor\" text-anchor=\"middle\" y=\"327.0\">\n",
       "    <tspan class=\"displacy-word\" fill=\"currentColor\" x=\"1170\">Works</tspan>\n",
       "    <tspan class=\"displacy-tag\" dy=\"2em\" fill=\"currentColor\" x=\"1170\">PROPN</tspan>\n",
       "</text>\n",
       "\n",
       "<text class=\"displacy-token\" fill=\"currentColor\" text-anchor=\"middle\" y=\"327.0\">\n",
       "    <tspan class=\"displacy-word\" fill=\"currentColor\" x=\"1250\">Co</tspan>\n",
       "    <tspan class=\"displacy-tag\" dy=\"2em\" fill=\"currentColor\" x=\"1250\">PROPN</tspan>\n",
       "</text>\n",
       "\n",
       "<text class=\"displacy-token\" fill=\"currentColor\" text-anchor=\"middle\" y=\"327.0\">\n",
       "    <tspan class=\"displacy-word\" fill=\"currentColor\" x=\"1330\">Inc</tspan>\n",
       "    <tspan class=\"displacy-tag\" dy=\"2em\" fill=\"currentColor\" x=\"1330\">PROPN</tspan>\n",
       "</text>\n",
       "\n",
       "<text class=\"displacy-token\" fill=\"currentColor\" text-anchor=\"middle\" y=\"327.0\">\n",
       "    <tspan class=\"displacy-word\" fill=\"currentColor\" x=\"1410\">|</tspan>\n",
       "    <tspan class=\"displacy-tag\" dy=\"2em\" fill=\"currentColor\" x=\"1410\">PUNCT</tspan>\n",
       "</text>\n",
       "\n",
       "<text class=\"displacy-token\" fill=\"currentColor\" text-anchor=\"middle\" y=\"327.0\">\n",
       "    <tspan class=\"displacy-word\" fill=\"currentColor\" x=\"1490\">A0NJ38</tspan>\n",
       "    <tspan class=\"displacy-tag\" dy=\"2em\" fill=\"currentColor\" x=\"1490\">PROPN</tspan>\n",
       "</text>\n",
       "\n",
       "<text class=\"displacy-token\" fill=\"currentColor\" text-anchor=\"middle\" y=\"327.0\">\n",
       "    <tspan class=\"displacy-word\" fill=\"currentColor\" x=\"1570\">|</tspan>\n",
       "    <tspan class=\"displacy-tag\" dy=\"2em\" fill=\"currentColor\" x=\"1570\">PUNCT</tspan>\n",
       "</text>\n",
       "\n",
       "<text class=\"displacy-token\" fill=\"currentColor\" text-anchor=\"middle\" y=\"327.0\">\n",
       "    <tspan class=\"displacy-word\" fill=\"currentColor\" x=\"1650\">AWK</tspan>\n",
       "    <tspan class=\"displacy-tag\" dy=\"2em\" fill=\"currentColor\" x=\"1650\">PROPN</tspan>\n",
       "</text>\n",
       "\n",
       "<text class=\"displacy-token\" fill=\"currentColor\" text-anchor=\"middle\" y=\"327.0\">\n",
       "    <tspan class=\"displacy-word\" fill=\"currentColor\" x=\"1730\">|</tspan>\n",
       "    <tspan class=\"displacy-tag\" dy=\"2em\" fill=\"currentColor\" x=\"1730\">PUNCT</tspan>\n",
       "</text>\n",
       "\n",
       "<text class=\"displacy-token\" fill=\"currentColor\" text-anchor=\"middle\" y=\"327.0\">\n",
       "    <tspan class=\"displacy-word\" fill=\"currentColor\" x=\"1810\">US0304201033</tspan>\n",
       "    <tspan class=\"displacy-tag\" dy=\"2em\" fill=\"currentColor\" x=\"1810\">PROPN</tspan>\n",
       "</text>\n",
       "\n",
       "<g class=\"displacy-arrow\">\n",
       "    <path class=\"displacy-arc\" id=\"arrow-0241df6f407b4c3aa5623bfe8e043ecf-0-0\" stroke-width=\"2px\" d=\"M230,282.0 C230,242.0 260.0,242.0 260.0,282.0\" fill=\"none\" stroke=\"currentColor\"/>\n",
       "    <text dy=\"1.25em\" style=\"font-size: 0.8em; letter-spacing: 1px\">\n",
       "        <textPath xlink:href=\"#arrow-0241df6f407b4c3aa5623bfe8e043ecf-0-0\" class=\"displacy-label\" startOffset=\"50%\" side=\"left\" fill=\"currentColor\" text-anchor=\"middle\">pnc</textPath>\n",
       "    </text>\n",
       "    <path class=\"displacy-arrowhead\" d=\"M230,284.0 L222,272.0 238,272.0\" fill=\"currentColor\"/>\n",
       "</g>\n",
       "\n",
       "<g class=\"displacy-arrow\">\n",
       "    <path class=\"displacy-arc\" id=\"arrow-0241df6f407b4c3aa5623bfe8e043ecf-0-1\" stroke-width=\"2px\" d=\"M310,282.0 C310,242.0 340.0,242.0 340.0,282.0\" fill=\"none\" stroke=\"currentColor\"/>\n",
       "    <text dy=\"1.25em\" style=\"font-size: 0.8em; letter-spacing: 1px\">\n",
       "        <textPath xlink:href=\"#arrow-0241df6f407b4c3aa5623bfe8e043ecf-0-1\" class=\"displacy-label\" startOffset=\"50%\" side=\"left\" fill=\"currentColor\" text-anchor=\"middle\">pnc</textPath>\n",
       "    </text>\n",
       "    <path class=\"displacy-arrowhead\" d=\"M340.0,284.0 L348.0,272.0 332.0,272.0\" fill=\"currentColor\"/>\n",
       "</g>\n",
       "\n",
       "<g class=\"displacy-arrow\">\n",
       "    <path class=\"displacy-arc\" id=\"arrow-0241df6f407b4c3aa5623bfe8e043ecf-0-2\" stroke-width=\"2px\" d=\"M470,282.0 C470,242.0 500.0,242.0 500.0,282.0\" fill=\"none\" stroke=\"currentColor\"/>\n",
       "    <text dy=\"1.25em\" style=\"font-size: 0.8em; letter-spacing: 1px\">\n",
       "        <textPath xlink:href=\"#arrow-0241df6f407b4c3aa5623bfe8e043ecf-0-2\" class=\"displacy-label\" startOffset=\"50%\" side=\"left\" fill=\"currentColor\" text-anchor=\"middle\">cd</textPath>\n",
       "    </text>\n",
       "    <path class=\"displacy-arrowhead\" d=\"M500.0,284.0 L508.0,272.0 492.0,272.0\" fill=\"currentColor\"/>\n",
       "</g>\n",
       "\n",
       "<g class=\"displacy-arrow\">\n",
       "    <path class=\"displacy-arc\" id=\"arrow-0241df6f407b4c3aa5623bfe8e043ecf-0-3\" stroke-width=\"2px\" d=\"M630,282.0 C630,242.0 660.0,242.0 660.0,282.0\" fill=\"none\" stroke=\"currentColor\"/>\n",
       "    <text dy=\"1.25em\" style=\"font-size: 0.8em; letter-spacing: 1px\">\n",
       "        <textPath xlink:href=\"#arrow-0241df6f407b4c3aa5623bfe8e043ecf-0-3\" class=\"displacy-label\" startOffset=\"50%\" side=\"left\" fill=\"currentColor\" text-anchor=\"middle\">nk</textPath>\n",
       "    </text>\n",
       "    <path class=\"displacy-arrowhead\" d=\"M630,284.0 L622,272.0 638,272.0\" fill=\"currentColor\"/>\n",
       "</g>\n",
       "\n",
       "<g class=\"displacy-arrow\">\n",
       "    <path class=\"displacy-arc\" id=\"arrow-0241df6f407b4c3aa5623bfe8e043ecf-0-4\" stroke-width=\"2px\" d=\"M550,282.0 C550,202.0 665.0,202.0 665.0,282.0\" fill=\"none\" stroke=\"currentColor\"/>\n",
       "    <text dy=\"1.25em\" style=\"font-size: 0.8em; letter-spacing: 1px\">\n",
       "        <textPath xlink:href=\"#arrow-0241df6f407b4c3aa5623bfe8e043ecf-0-4\" class=\"displacy-label\" startOffset=\"50%\" side=\"left\" fill=\"currentColor\" text-anchor=\"middle\">cj</textPath>\n",
       "    </text>\n",
       "    <path class=\"displacy-arrowhead\" d=\"M665.0,284.0 L673.0,272.0 657.0,272.0\" fill=\"currentColor\"/>\n",
       "</g>\n",
       "\n",
       "<g class=\"displacy-arrow\">\n",
       "    <path class=\"displacy-arc\" id=\"arrow-0241df6f407b4c3aa5623bfe8e043ecf-0-5\" stroke-width=\"2px\" d=\"M790,282.0 C790,242.0 820.0,242.0 820.0,282.0\" fill=\"none\" stroke=\"currentColor\"/>\n",
       "    <text dy=\"1.25em\" style=\"font-size: 0.8em; letter-spacing: 1px\">\n",
       "        <textPath xlink:href=\"#arrow-0241df6f407b4c3aa5623bfe8e043ecf-0-5\" class=\"displacy-label\" startOffset=\"50%\" side=\"left\" fill=\"currentColor\" text-anchor=\"middle\">mnr</textPath>\n",
       "    </text>\n",
       "    <path class=\"displacy-arrowhead\" d=\"M820.0,284.0 L828.0,272.0 812.0,272.0\" fill=\"currentColor\"/>\n",
       "</g>\n",
       "\n",
       "<g class=\"displacy-arrow\">\n",
       "    <path class=\"displacy-arc\" id=\"arrow-0241df6f407b4c3aa5623bfe8e043ecf-0-6\" stroke-width=\"2px\" d=\"M870,282.0 C870,242.0 900.0,242.0 900.0,282.0\" fill=\"none\" stroke=\"currentColor\"/>\n",
       "    <text dy=\"1.25em\" style=\"font-size: 0.8em; letter-spacing: 1px\">\n",
       "        <textPath xlink:href=\"#arrow-0241df6f407b4c3aa5623bfe8e043ecf-0-6\" class=\"displacy-label\" startOffset=\"50%\" side=\"left\" fill=\"currentColor\" text-anchor=\"middle\">nk</textPath>\n",
       "    </text>\n",
       "    <path class=\"displacy-arrowhead\" d=\"M900.0,284.0 L908.0,272.0 892.0,272.0\" fill=\"currentColor\"/>\n",
       "</g>\n",
       "\n",
       "<g class=\"displacy-arrow\">\n",
       "    <path class=\"displacy-arc\" id=\"arrow-0241df6f407b4c3aa5623bfe8e043ecf-0-7\" stroke-width=\"2px\" d=\"M1030,282.0 C1030,122.0 1315.0,122.0 1315.0,282.0\" fill=\"none\" stroke=\"currentColor\"/>\n",
       "    <text dy=\"1.25em\" style=\"font-size: 0.8em; letter-spacing: 1px\">\n",
       "        <textPath xlink:href=\"#arrow-0241df6f407b4c3aa5623bfe8e043ecf-0-7\" class=\"displacy-label\" startOffset=\"50%\" side=\"left\" fill=\"currentColor\" text-anchor=\"middle\">pnc</textPath>\n",
       "    </text>\n",
       "    <path class=\"displacy-arrowhead\" d=\"M1030,284.0 L1022,272.0 1038,272.0\" fill=\"currentColor\"/>\n",
       "</g>\n",
       "\n",
       "<g class=\"displacy-arrow\">\n",
       "    <path class=\"displacy-arc\" id=\"arrow-0241df6f407b4c3aa5623bfe8e043ecf-0-8\" stroke-width=\"2px\" d=\"M1110,282.0 C1110,162.0 1310.0,162.0 1310.0,282.0\" fill=\"none\" stroke=\"currentColor\"/>\n",
       "    <text dy=\"1.25em\" style=\"font-size: 0.8em; letter-spacing: 1px\">\n",
       "        <textPath xlink:href=\"#arrow-0241df6f407b4c3aa5623bfe8e043ecf-0-8\" class=\"displacy-label\" startOffset=\"50%\" side=\"left\" fill=\"currentColor\" text-anchor=\"middle\">pnc</textPath>\n",
       "    </text>\n",
       "    <path class=\"displacy-arrowhead\" d=\"M1110,284.0 L1102,272.0 1118,272.0\" fill=\"currentColor\"/>\n",
       "</g>\n",
       "\n",
       "<g class=\"displacy-arrow\">\n",
       "    <path class=\"displacy-arc\" id=\"arrow-0241df6f407b4c3aa5623bfe8e043ecf-0-9\" stroke-width=\"2px\" d=\"M1190,282.0 C1190,202.0 1305.0,202.0 1305.0,282.0\" fill=\"none\" stroke=\"currentColor\"/>\n",
       "    <text dy=\"1.25em\" style=\"font-size: 0.8em; letter-spacing: 1px\">\n",
       "        <textPath xlink:href=\"#arrow-0241df6f407b4c3aa5623bfe8e043ecf-0-9\" class=\"displacy-label\" startOffset=\"50%\" side=\"left\" fill=\"currentColor\" text-anchor=\"middle\">pnc</textPath>\n",
       "    </text>\n",
       "    <path class=\"displacy-arrowhead\" d=\"M1190,284.0 L1182,272.0 1198,272.0\" fill=\"currentColor\"/>\n",
       "</g>\n",
       "\n",
       "<g class=\"displacy-arrow\">\n",
       "    <path class=\"displacy-arc\" id=\"arrow-0241df6f407b4c3aa5623bfe8e043ecf-0-10\" stroke-width=\"2px\" d=\"M1270,282.0 C1270,242.0 1300.0,242.0 1300.0,282.0\" fill=\"none\" stroke=\"currentColor\"/>\n",
       "    <text dy=\"1.25em\" style=\"font-size: 0.8em; letter-spacing: 1px\">\n",
       "        <textPath xlink:href=\"#arrow-0241df6f407b4c3aa5623bfe8e043ecf-0-10\" class=\"displacy-label\" startOffset=\"50%\" side=\"left\" fill=\"currentColor\" text-anchor=\"middle\">pnc</textPath>\n",
       "    </text>\n",
       "    <path class=\"displacy-arrowhead\" d=\"M1270,284.0 L1262,272.0 1278,272.0\" fill=\"currentColor\"/>\n",
       "</g>\n",
       "\n",
       "<g class=\"displacy-arrow\">\n",
       "    <path class=\"displacy-arc\" id=\"arrow-0241df6f407b4c3aa5623bfe8e043ecf-0-11\" stroke-width=\"2px\" d=\"M950,282.0 C950,82.0 1320.0,82.0 1320.0,282.0\" fill=\"none\" stroke=\"currentColor\"/>\n",
       "    <text dy=\"1.25em\" style=\"font-size: 0.8em; letter-spacing: 1px\">\n",
       "        <textPath xlink:href=\"#arrow-0241df6f407b4c3aa5623bfe8e043ecf-0-11\" class=\"displacy-label\" startOffset=\"50%\" side=\"left\" fill=\"currentColor\" text-anchor=\"middle\">nk</textPath>\n",
       "    </text>\n",
       "    <path class=\"displacy-arrowhead\" d=\"M1320.0,284.0 L1328.0,272.0 1312.0,272.0\" fill=\"currentColor\"/>\n",
       "</g>\n",
       "\n",
       "<g class=\"displacy-arrow\">\n",
       "    <path class=\"displacy-arc\" id=\"arrow-0241df6f407b4c3aa5623bfe8e043ecf-0-12\" stroke-width=\"2px\" d=\"M1350,282.0 C1350,242.0 1380.0,242.0 1380.0,282.0\" fill=\"none\" stroke=\"currentColor\"/>\n",
       "    <text dy=\"1.25em\" style=\"font-size: 0.8em; letter-spacing: 1px\">\n",
       "        <textPath xlink:href=\"#arrow-0241df6f407b4c3aa5623bfe8e043ecf-0-12\" class=\"displacy-label\" startOffset=\"50%\" side=\"left\" fill=\"currentColor\" text-anchor=\"middle\">punct</textPath>\n",
       "    </text>\n",
       "    <path class=\"displacy-arrowhead\" d=\"M1380.0,284.0 L1388.0,272.0 1372.0,272.0\" fill=\"currentColor\"/>\n",
       "</g>\n",
       "\n",
       "<g class=\"displacy-arrow\">\n",
       "    <path class=\"displacy-arc\" id=\"arrow-0241df6f407b4c3aa5623bfe8e043ecf-0-13\" stroke-width=\"2px\" d=\"M950,282.0 C950,42.0 1485.0,42.0 1485.0,282.0\" fill=\"none\" stroke=\"currentColor\"/>\n",
       "    <text dy=\"1.25em\" style=\"font-size: 0.8em; letter-spacing: 1px\">\n",
       "        <textPath xlink:href=\"#arrow-0241df6f407b4c3aa5623bfe8e043ecf-0-13\" class=\"displacy-label\" startOffset=\"50%\" side=\"left\" fill=\"currentColor\" text-anchor=\"middle\">nk</textPath>\n",
       "    </text>\n",
       "    <path class=\"displacy-arrowhead\" d=\"M1485.0,284.0 L1493.0,272.0 1477.0,272.0\" fill=\"currentColor\"/>\n",
       "</g>\n",
       "\n",
       "<g class=\"displacy-arrow\">\n",
       "    <path class=\"displacy-arc\" id=\"arrow-0241df6f407b4c3aa5623bfe8e043ecf-0-14\" stroke-width=\"2px\" d=\"M1590,282.0 C1590,242.0 1620.0,242.0 1620.0,282.0\" fill=\"none\" stroke=\"currentColor\"/>\n",
       "    <text dy=\"1.25em\" style=\"font-size: 0.8em; letter-spacing: 1px\">\n",
       "        <textPath xlink:href=\"#arrow-0241df6f407b4c3aa5623bfe8e043ecf-0-14\" class=\"displacy-label\" startOffset=\"50%\" side=\"left\" fill=\"currentColor\" text-anchor=\"middle\">punct</textPath>\n",
       "    </text>\n",
       "    <path class=\"displacy-arrowhead\" d=\"M1590,284.0 L1582,272.0 1598,272.0\" fill=\"currentColor\"/>\n",
       "</g>\n",
       "\n",
       "<g class=\"displacy-arrow\">\n",
       "    <path class=\"displacy-arc\" id=\"arrow-0241df6f407b4c3aa5623bfe8e043ecf-0-15\" stroke-width=\"2px\" d=\"M790,282.0 C790,2.0 1650.0,2.0 1650.0,282.0\" fill=\"none\" stroke=\"currentColor\"/>\n",
       "    <text dy=\"1.25em\" style=\"font-size: 0.8em; letter-spacing: 1px\">\n",
       "        <textPath xlink:href=\"#arrow-0241df6f407b4c3aa5623bfe8e043ecf-0-15\" class=\"displacy-label\" startOffset=\"50%\" side=\"left\" fill=\"currentColor\" text-anchor=\"middle\">app</textPath>\n",
       "    </text>\n",
       "    <path class=\"displacy-arrowhead\" d=\"M1650.0,284.0 L1658.0,272.0 1642.0,272.0\" fill=\"currentColor\"/>\n",
       "</g>\n",
       "\n",
       "<g class=\"displacy-arrow\">\n",
       "    <path class=\"displacy-arc\" id=\"arrow-0241df6f407b4c3aa5623bfe8e043ecf-0-16\" stroke-width=\"2px\" d=\"M1670,282.0 C1670,242.0 1700.0,242.0 1700.0,282.0\" fill=\"none\" stroke=\"currentColor\"/>\n",
       "    <text dy=\"1.25em\" style=\"font-size: 0.8em; letter-spacing: 1px\">\n",
       "        <textPath xlink:href=\"#arrow-0241df6f407b4c3aa5623bfe8e043ecf-0-16\" class=\"displacy-label\" startOffset=\"50%\" side=\"left\" fill=\"currentColor\" text-anchor=\"middle\">punct</textPath>\n",
       "    </text>\n",
       "    <path class=\"displacy-arrowhead\" d=\"M1700.0,284.0 L1708.0,272.0 1692.0,272.0\" fill=\"currentColor\"/>\n",
       "</g>\n",
       "</svg></span>"
      ],
      "text/plain": [
       "<IPython.core.display.HTML object>"
      ]
     },
     "metadata": {},
     "output_type": "display_data"
    }
   ],
   "source": [
    "explore_snippet(train[\"Snippet\"].iloc[178])"
   ]
  },
  {
   "cell_type": "markdown",
   "id": "2140b2d7-f2a9-40ee-80eb-d4c6a75ba7ee",
   "metadata": {},
   "source": [
    "### Setup Models and Data"
   ]
  },
  {
   "cell_type": "code",
   "execution_count": 275,
   "id": "45186e86-c2a0-4a5f-8280-f85dadb1dafb",
   "metadata": {},
   "outputs": [],
   "source": [
    "from sklearn.neighbors import KNeighborsClassifier\n",
    "from sklearn.pipeline import Pipeline\n",
    "from sklearn.preprocessing import StandardScaler\n",
    "\n",
    "from sklearn.model_selection import GridSearchCV\n",
    "\n",
    "from sklearn.naive_bayes import MultinomialNB\n",
    "from sklearn.linear_model import LogisticRegression\n",
    "from sklearn.ensemble import RandomForestClassifier\n",
    "from sklearn.svm import LinearSVC\n",
    "\n",
    "from sklearn.metrics import confusion_matrix\n",
    "from sklearn.metrics import accuracy_score\n",
    "from sklearn.metrics import classification_report"
   ]
  },
  {
   "cell_type": "code",
   "execution_count": 291,
   "id": "93da4db8-bfae-4043-8338-11ef3add921b",
   "metadata": {},
   "outputs": [],
   "source": [
    "knn = Pipeline([('scaler', StandardScaler()),('clf',KNeighborsClassifier(n_neighbors=3))])\n",
    "rf = Pipeline([('scaler', StandardScaler()),('clf',RandomForestClassifier(bootstrap= False, criterion= 'entropy', n_estimators= 100))])\n",
    "svc = Pipeline([('scaler', StandardScaler()),('clf',LinearSVC(max_iter = 100000))])\n",
    "\n",
    "#knn = Pipeline([('scaler', StandardScaler(with_mean=False)),('clf',KNeighborsClassifier(n_neighbors=3))])\n",
    "#rf = Pipeline([('scaler', StandardScaler(with_mean=False)),('clf',RandomForestClassifier(bootstrap= False, criterion= 'entropy', n_estimators= 100))])\n",
    "#svc = Pipeline([('scaler', StandardScaler(with_mean=False)),('clf',LinearSVC(max_iter = 10000))])"
   ]
  },
  {
   "cell_type": "code",
   "execution_count": 292,
   "id": "ba035ab4-c183-4b40-98c8-f7421ea92dff",
   "metadata": {},
   "outputs": [],
   "source": [
    "X = df[\"Snippet\"]\n",
    "y = df[\"Sector\"]\n"
   ]
  },
  {
   "cell_type": "code",
   "execution_count": 293,
   "id": "06c86e74-5679-4220-9969-48649bb84363",
   "metadata": {},
   "outputs": [],
   "source": [
    "#from sklearn.feature_extraction.text import TfidfVectorizer\n",
    "#vectorizer = TfidfVectorizer()\n",
    "#X = vectorizer.fit_transform([prepare_snippets(snippet, word_embeddings = False, raw_string_return= True) for snippet in X.to_list()])"
   ]
  },
  {
   "cell_type": "code",
   "execution_count": 294,
   "id": "a79b1cb1",
   "metadata": {},
   "outputs": [],
   "source": [
    "X_train, X_test, y_train, y_test = train_test_split(X, y, test_size=0.33, random_state=42)"
   ]
  },
  {
   "cell_type": "code",
   "execution_count": 295,
   "id": "3652cd5b-1d61-4abd-95be-715809945146",
   "metadata": {},
   "outputs": [],
   "source": [
    "X_test, X_val, y_test, y_val = train_test_split(X_test, y_test, test_size=0.02, random_state=42)"
   ]
  },
  {
   "cell_type": "code",
   "execution_count": 296,
   "id": "35e48285-f6ba-4b7a-a0a8-380462c5fa9c",
   "metadata": {},
   "outputs": [],
   "source": [
    "X_test = [prepare_snippets(snippet) for snippet in X_test.to_list()]\n",
    "X_train = [prepare_snippets(snippet) for snippet in X_train.to_list()]\n",
    "\n",
    "y_test = y_test.to_list()\n",
    "y_train = y_train.to_list()"
   ]
  },
  {
   "cell_type": "markdown",
   "id": "9287066f-15a3-497f-8137-383e10b72fd6",
   "metadata": {},
   "source": [
    "### Train the Models"
   ]
  },
  {
   "cell_type": "code",
   "execution_count": 297,
   "id": "0f0e24ce",
   "metadata": {},
   "outputs": [
    {
     "name": "stderr",
     "output_type": "stream",
     "text": [
      "/home/stephan/media/stephan/Programme/anaconda3/envs/nlp_6/lib/python3.9/site-packages/sklearn/svm/_base.py:985: ConvergenceWarning: Liblinear failed to converge, increase the number of iterations.\n",
      "  warnings.warn(\"Liblinear failed to converge, increase \"\n"
     ]
    }
   ],
   "source": [
    "#Feeding the data\n",
    "knn.fit(X_train,y_train)\n",
    "rf.fit(X_train,y_train)\n",
    "svc.fit(X_train, y_train)\n",
    "\n",
    "classifiers = [knn, rf, svc]"
   ]
  },
  {
   "cell_type": "markdown",
   "id": "a8db7483-89d9-4e3a-b89a-837cc7399188",
   "metadata": {},
   "source": [
    "### Evaluate the Models"
   ]
  },
  {
   "cell_type": "code",
   "execution_count": 283,
   "id": "e88f05fd",
   "metadata": {
    "tags": []
   },
   "outputs": [
    {
     "name": "stdout",
     "output_type": "stream",
     "text": [
      "Confusion Matrix :\n",
      " [[21  3  2 23  0  8  1  3  0  1]\n",
      " [ 8  7  4 16  1  1  0  3  0  1]\n",
      " [ 8  0  6  6  0  2  0  1  0  0]\n",
      " [25  5  7 66  1  9  0  2  0  0]\n",
      " [ 4  2  1  8  4  2  2  1  0  0]\n",
      " [ 7  2  4 19  0  6  3  4  0  0]\n",
      " [ 8  0  2 19  1  6  2  0  0  0]\n",
      " [19  3  2  8  1  2  2  2  0  0]\n",
      " [ 3  1  1  1  0  1  2  0  0  0]\n",
      " [ 5  0  1  8  1  5  0  1  0  0]]\n",
      "\n",
      "Test Set Accuracy Score :\n",
      " 0.2733812949640288\n",
      "\n",
      "Train Set Accuracy Score :\n",
      " 0.5196759259259259\n",
      "\n",
      "Classification Report :\n",
      "                             precision    recall  f1-score   support\n",
      "\n",
      "    Consumer Discretionary       0.19      0.34      0.25        62\n",
      "          Consumer Staples       0.30      0.17      0.22        41\n",
      "                    Energy       0.20      0.26      0.23        23\n",
      "                Financials       0.38      0.57      0.46       115\n",
      "               Health Care       0.44      0.17      0.24        24\n",
      "               Industrials       0.14      0.13      0.14        45\n",
      "    Information Technology       0.17      0.05      0.08        38\n",
      "                 Materials       0.12      0.05      0.07        39\n",
      "Telecommunication Services       0.00      0.00      0.00         9\n",
      "                 Utilities       0.00      0.00      0.00        21\n",
      "\n",
      "                  accuracy                           0.27       417\n",
      "                 macro avg       0.19      0.17      0.17       417\n",
      "              weighted avg       0.24      0.27      0.24       417\n",
      "\n"
     ]
    }
   ],
   "source": [
    "classfier = knn\n",
    "\n",
    "#Predicting \n",
    "y_pred = classfier.predict(X_test)\n",
    "yt_pred = classfier.predict(X_train)\n",
    "#Analyzing\n",
    "cm = confusion_matrix(y_test,y_pred)\n",
    "print(f'Confusion Matrix :\\n {cm}\\n')\n",
    "print(f'Test Set Accuracy Score :\\n {accuracy_score(y_test,y_pred)}\\n')\n",
    "print(f'Train Set Accuracy Score :\\n {accuracy_score(y_train,yt_pred)}\\n')\n",
    "print(f'Classification Report :\\n {classification_report(y_test,y_pred, zero_division=False)}')"
   ]
  },
  {
   "cell_type": "code",
   "execution_count": 284,
   "id": "fe91bb07-8114-4066-a6f4-8fee693a63ae",
   "metadata": {},
   "outputs": [
    {
     "name": "stdout",
     "output_type": "stream",
     "text": [
      "Confusion Matrix :\n",
      " [[16  2  1 30  1  8  1  3  0  0]\n",
      " [ 9  0  1 24  1  3  1  1  0  1]\n",
      " [ 6  0  2 12  1  1  0  1  0  0]\n",
      " [13  0  1 84  2  8  0  7  0  0]\n",
      " [ 3  1  0  8  4  8  0  0  0  0]\n",
      " [14  2  0 17  0  9  2  1  0  0]\n",
      " [13  0  0 19  0  4  0  2  0  0]\n",
      " [10  0  1 16  0  4  1  7  0  0]\n",
      " [ 3  0  0  4  0  2  0  0  0  0]\n",
      " [ 1  1  0 12  0  2  1  2  0  2]]\n",
      "\n",
      "Test Set Accuracy Score :\n",
      " 0.2973621103117506\n",
      "\n",
      "Train Set Accuracy Score :\n",
      " 0.8842592592592593\n",
      "\n",
      "Classification Report :\n",
      "                             precision    recall  f1-score   support\n",
      "\n",
      "    Consumer Discretionary       0.18      0.26      0.21        62\n",
      "          Consumer Staples       0.00      0.00      0.00        41\n",
      "                    Energy       0.33      0.09      0.14        23\n",
      "                Financials       0.37      0.73      0.49       115\n",
      "               Health Care       0.44      0.17      0.24        24\n",
      "               Industrials       0.18      0.20      0.19        45\n",
      "    Information Technology       0.00      0.00      0.00        38\n",
      "                 Materials       0.29      0.18      0.22        39\n",
      "Telecommunication Services       0.00      0.00      0.00         9\n",
      "                 Utilities       0.67      0.10      0.17        21\n",
      "\n",
      "                  accuracy                           0.30       417\n",
      "                 macro avg       0.25      0.17      0.17       417\n",
      "              weighted avg       0.25      0.30      0.24       417\n",
      "\n"
     ]
    }
   ],
   "source": [
    "classfier = rf\n",
    "\n",
    "#Predicting \n",
    "y_pred = classfier.predict(X_test)\n",
    "yt_pred = classfier.predict(X_train)\n",
    "#Analyzing\n",
    "cm = confusion_matrix(y_test,y_pred)\n",
    "print(f'Confusion Matrix :\\n {cm}\\n')\n",
    "print(f'Test Set Accuracy Score :\\n {accuracy_score(y_test,y_pred)}\\n')\n",
    "print(f'Train Set Accuracy Score :\\n {accuracy_score(y_train,yt_pred)}\\n')\n",
    "print(f'Classification Report :\\n {classification_report(y_test,y_pred, zero_division=False)}')"
   ]
  },
  {
   "cell_type": "code",
   "execution_count": 285,
   "id": "cf7b1822-53d0-4d6d-8342-3e20ebe8d6c6",
   "metadata": {},
   "outputs": [
    {
     "name": "stdout",
     "output_type": "stream",
     "text": [
      "Confusion Matrix :\n",
      " [[14  3  4 21  6  4  3  6  0  1]\n",
      " [ 6  4  4 10  2  5  0  8  1  1]\n",
      " [ 3  1  3  5  0  4  0  2  2  3]\n",
      " [ 9  2  5 75  2 11  0  6  3  2]\n",
      " [ 1  0  1  6  6  4  2  2  1  1]\n",
      " [ 4  1  4 13  2 10  6  4  0  1]\n",
      " [ 7  1  1 13  0  5  6  3  1  1]\n",
      " [ 7  4  2 11  1  4  1  7  1  1]\n",
      " [ 3  1  1  1  0  2  0  0  1  0]\n",
      " [ 1  0  1  7  1  2  0  0  1  8]]\n",
      "\n",
      "Test Set Accuracy Score :\n",
      " 0.3213429256594724\n",
      "\n",
      "Train Set Accuracy Score :\n",
      " 0.8449074074074074\n",
      "\n",
      "Classification Report :\n",
      "                             precision    recall  f1-score   support\n",
      "\n",
      "    Consumer Discretionary       0.25      0.23      0.24        62\n",
      "          Consumer Staples       0.24      0.10      0.14        41\n",
      "                    Energy       0.12      0.13      0.12        23\n",
      "                Financials       0.46      0.65      0.54       115\n",
      "               Health Care       0.30      0.25      0.27        24\n",
      "               Industrials       0.20      0.22      0.21        45\n",
      "    Information Technology       0.33      0.16      0.21        38\n",
      "                 Materials       0.18      0.18      0.18        39\n",
      "Telecommunication Services       0.09      0.11      0.10         9\n",
      "                 Utilities       0.42      0.38      0.40        21\n",
      "\n",
      "                  accuracy                           0.32       417\n",
      "                 macro avg       0.26      0.24      0.24       417\n",
      "              weighted avg       0.30      0.32      0.30       417\n",
      "\n"
     ]
    }
   ],
   "source": [
    "classfier = svc\n",
    "\n",
    "#Predicting \n",
    "y_pred = classfier.predict(X_test)\n",
    "yt_pred = classfier.predict(X_train)\n",
    "#Analyzing\n",
    "cm = confusion_matrix(y_test,y_pred)\n",
    "print(f'Confusion Matrix :\\n {cm}\\n')\n",
    "print(f'Test Set Accuracy Score :\\n {accuracy_score(y_test,y_pred)}\\n')\n",
    "print(f'Train Set Accuracy Score :\\n {accuracy_score(y_train,yt_pred)}\\n')\n",
    "print(f'Classification Report :\\n {classification_report(y_test,y_pred, zero_division=False)}')"
   ]
  },
  {
   "cell_type": "markdown",
   "id": "60b694d5-bc4f-46d2-9be2-ecc5013efd9a",
   "metadata": {},
   "source": [
    "#### Cross_Validation"
   ]
  },
  {
   "cell_type": "code",
   "execution_count": 289,
   "id": "441dbff6-95b0-4308-9de0-816a26fa0b63",
   "metadata": {},
   "outputs": [
    {
     "name": "stderr",
     "output_type": "stream",
     "text": [
      "/home/stephan/media/stephan/Programme/anaconda3/envs/nlp_6/lib/python3.9/site-packages/sklearn/metrics/_classification.py:1248: UndefinedMetricWarning: Precision is ill-defined and being set to 0.0 in labels with no predicted samples. Use `zero_division` parameter to control this behavior.\n",
      "  _warn_prf(average, modifier, msg_start, len(result))\n",
      "/home/stephan/media/stephan/Programme/anaconda3/envs/nlp_6/lib/python3.9/site-packages/sklearn/metrics/_classification.py:1248: UndefinedMetricWarning: Precision is ill-defined and being set to 0.0 in labels with no predicted samples. Use `zero_division` parameter to control this behavior.\n",
      "  _warn_prf(average, modifier, msg_start, len(result))\n",
      "/home/stephan/media/stephan/Programme/anaconda3/envs/nlp_6/lib/python3.9/site-packages/sklearn/metrics/_classification.py:1248: UndefinedMetricWarning: Precision is ill-defined and being set to 0.0 in labels with no predicted samples. Use `zero_division` parameter to control this behavior.\n",
      "  _warn_prf(average, modifier, msg_start, len(result))\n",
      "/home/stephan/media/stephan/Programme/anaconda3/envs/nlp_6/lib/python3.9/site-packages/sklearn/metrics/_classification.py:1248: UndefinedMetricWarning: Precision is ill-defined and being set to 0.0 in labels with no predicted samples. Use `zero_division` parameter to control this behavior.\n",
      "  _warn_prf(average, modifier, msg_start, len(result))\n",
      "/home/stephan/media/stephan/Programme/anaconda3/envs/nlp_6/lib/python3.9/site-packages/sklearn/metrics/_classification.py:1248: UndefinedMetricWarning: Precision is ill-defined and being set to 0.0 in labels with no predicted samples. Use `zero_division` parameter to control this behavior.\n",
      "  _warn_prf(average, modifier, msg_start, len(result))\n"
     ]
    },
    {
     "name": "stdout",
     "output_type": "stream",
     "text": [
      "knn\n",
      "\n",
      "fit_time: 0.023981571197509766\n",
      "score_time: 0.05529770851135254\n",
      "test_precision_macro: 0.2051968392178511\n",
      "test_recall_macro: 0.16321929681571623\n",
      "test_f1_macro: 0.15672753089538605\n",
      "\n",
      " \n",
      "\n"
     ]
    },
    {
     "name": "stderr",
     "output_type": "stream",
     "text": [
      "/home/stephan/media/stephan/Programme/anaconda3/envs/nlp_6/lib/python3.9/site-packages/sklearn/metrics/_classification.py:1248: UndefinedMetricWarning: Precision is ill-defined and being set to 0.0 in labels with no predicted samples. Use `zero_division` parameter to control this behavior.\n",
      "  _warn_prf(average, modifier, msg_start, len(result))\n",
      "/home/stephan/media/stephan/Programme/anaconda3/envs/nlp_6/lib/python3.9/site-packages/sklearn/metrics/_classification.py:1248: UndefinedMetricWarning: Precision is ill-defined and being set to 0.0 in labels with no predicted samples. Use `zero_division` parameter to control this behavior.\n",
      "  _warn_prf(average, modifier, msg_start, len(result))\n",
      "/home/stephan/media/stephan/Programme/anaconda3/envs/nlp_6/lib/python3.9/site-packages/sklearn/metrics/_classification.py:1248: UndefinedMetricWarning: Precision is ill-defined and being set to 0.0 in labels with no predicted samples. Use `zero_division` parameter to control this behavior.\n",
      "  _warn_prf(average, modifier, msg_start, len(result))\n",
      "/home/stephan/media/stephan/Programme/anaconda3/envs/nlp_6/lib/python3.9/site-packages/sklearn/metrics/_classification.py:1248: UndefinedMetricWarning: Precision is ill-defined and being set to 0.0 in labels with no predicted samples. Use `zero_division` parameter to control this behavior.\n",
      "  _warn_prf(average, modifier, msg_start, len(result))\n",
      "/home/stephan/media/stephan/Programme/anaconda3/envs/nlp_6/lib/python3.9/site-packages/sklearn/metrics/_classification.py:1248: UndefinedMetricWarning: Precision is ill-defined and being set to 0.0 in labels with no predicted samples. Use `zero_division` parameter to control this behavior.\n",
      "  _warn_prf(average, modifier, msg_start, len(result))\n"
     ]
    },
    {
     "name": "stdout",
     "output_type": "stream",
     "text": [
      "rf\n",
      "\n",
      "fit_time: 4.386952829360962\n",
      "score_time: 0.024660396575927734\n",
      "test_precision_macro: 0.2611616561789641\n",
      "test_recall_macro: 0.17594467666313135\n",
      "test_f1_macro: 0.1719698313548974\n",
      "\n",
      " \n",
      "\n"
     ]
    },
    {
     "name": "stderr",
     "output_type": "stream",
     "text": [
      "/home/stephan/media/stephan/Programme/anaconda3/envs/nlp_6/lib/python3.9/site-packages/sklearn/svm/_base.py:985: ConvergenceWarning: Liblinear failed to converge, increase the number of iterations.\n",
      "  warnings.warn(\"Liblinear failed to converge, increase \"\n",
      "/home/stephan/media/stephan/Programme/anaconda3/envs/nlp_6/lib/python3.9/site-packages/sklearn/svm/_base.py:985: ConvergenceWarning: Liblinear failed to converge, increase the number of iterations.\n",
      "  warnings.warn(\"Liblinear failed to converge, increase \"\n",
      "/home/stephan/media/stephan/Programme/anaconda3/envs/nlp_6/lib/python3.9/site-packages/sklearn/svm/_base.py:985: ConvergenceWarning: Liblinear failed to converge, increase the number of iterations.\n",
      "  warnings.warn(\"Liblinear failed to converge, increase \"\n",
      "/home/stephan/media/stephan/Programme/anaconda3/envs/nlp_6/lib/python3.9/site-packages/sklearn/svm/_base.py:985: ConvergenceWarning: Liblinear failed to converge, increase the number of iterations.\n",
      "  warnings.warn(\"Liblinear failed to converge, increase \"\n"
     ]
    },
    {
     "name": "stdout",
     "output_type": "stream",
     "text": [
      "svc\n",
      "\n",
      "fit_time: 43.088800477981565\n",
      "score_time: 0.011292314529418946\n",
      "test_precision_macro: 0.24356846460885845\n",
      "test_recall_macro: 0.22791113111324446\n",
      "test_f1_macro: 0.22949226089561153\n",
      "\n",
      " \n",
      "\n"
     ]
    },
    {
     "name": "stderr",
     "output_type": "stream",
     "text": [
      "/home/stephan/media/stephan/Programme/anaconda3/envs/nlp_6/lib/python3.9/site-packages/sklearn/svm/_base.py:985: ConvergenceWarning: Liblinear failed to converge, increase the number of iterations.\n",
      "  warnings.warn(\"Liblinear failed to converge, increase \"\n"
     ]
    }
   ],
   "source": [
    "from sklearn.model_selection import cross_validate\n",
    "from sklearn.metrics import recall_score\n",
    "\n",
    "\n",
    "lb = preprocessing.LabelEncoder()\n",
    "lb.fit(list(df[\"Sector\"].unique()))\n",
    "y_c = lb.transform(y)\n",
    "X_c = [prepare_snippets(snippet) for snippet in X.to_list()]\n",
    "\n",
    "\n",
    "scoring = ['precision_macro', 'recall_macro', \"f1_macro\"]\n",
    "names_classifiers = [\"knn\", \"rf\", \"svc\"]\n",
    "\n",
    "scores = {}\n",
    "\n",
    "for i in range(len(classifiers)):\n",
    "    scores[names_classifiers[i]] = cross_validate(classifiers[i], X_c, y_c, cv = 5,scoring = scoring)\n",
    "    print(names_classifiers[i] + \"\\n\")\n",
    "    for score in scores[names_classifiers[i]]:\n",
    "        print(f\"{score}: {np.mean(scores[names_classifiers[i]][score])}\")\n",
    "    print(\"\\n \\n\")\n"
   ]
  },
  {
   "cell_type": "markdown",
   "id": "aefd9812-d203-46e9-bbd8-75cc424941c0",
   "metadata": {},
   "source": [
    "#### Test on Some Datapoints"
   ]
  },
  {
   "cell_type": "code",
   "execution_count": 298,
   "id": "b712c9b3-4540-4aa0-a207-15a72f220ebb",
   "metadata": {},
   "outputs": [
    {
     "name": "stdout",
     "output_type": "stream",
     "text": [
      "Company: STRABAG \n",
      "Snippet: https://strabag.deDie STRABAG AG, Köln, ist seit mehr als 90 Jahren erfolgreich und die Nr. 1 im deutschen Verkehrswegebau. Wir realisieren Ihr Projekt in partnerschaftlicher Zusammenarbeit und sorgen für einen langen Lebenszyklus, moderate Baukosten und effizienten Betrieb. \n",
      "Prediction by clf: Industrials \n",
      "Real Sector: Industrials\n",
      "\n",
      " \n",
      "\n",
      "Company: East Japan Railway \n",
      "Snippet: 11 Zeilen · 18.06.2020 · East Japan Railway Co. 1,28: 100,00: JPY: 2021: East Japan Railway Co. … \n",
      "Prediction by clf: Financials \n",
      "Real Sector: Industrials\n",
      "\n",
      " \n",
      "\n",
      "Company: Kubota \n",
      "Snippet: Kubota Schlepper in diesem Segment sind sehr robust und mit modernster Technik versehen. Der Obstbautraktor Kubota M6040N ist mit einem Bi-Speed-Lenksystem ausgestattet. Dieses ermöglicht, beim Wenden sehr enge Radien einzuhalten. Aber auch mit vielen anderen technischen Neuerungen wartet dieser Kubota Traktor auf. Sind die Kubota Traktoren gebraucht, weisen sie immer noch einen … \n",
      "Prediction by clf: Consumer Discretionary \n",
      "Real Sector: Industrials\n",
      "\n",
      " \n",
      "\n",
      "Company: Sekisui House \n",
      "Snippet: Sekisui House K.K. (jap. 積水ハウス株式会社 Sekisui hausu kabushiki kaisha, engl. Sekisui House, Ltd.) ist ein japanisches Unternehmen mit Firmensitz in Osaka. Das Unternehmen ist im Bauwesen tätig. Sekisui House wurde am 1. August 1960 gegründet. Präsident des Unternehmens ist … Sekisui House K.K. (jap. 積水ハウス株式会社 Sekisui hausu kabushiki kaisha, engl. Sekisui House, Ltd.) ist ein japanisches Unternehmen mit Firmensitz in Osaka. Das Unternehmen ist im Bauwesen tätig. Sekisui House wurde am 1. August 1960 gegründet. Präsident des Unternehmens ist Toshinori Abe. Das Unternehmen beschäftigte 2016 rund 15.900 Mitarbeiter. \n",
      "Prediction by clf: Financials \n",
      "Real Sector: Industrials\n",
      "\n",
      " \n",
      "\n",
      "Company: Bank of New York Mellon \n",
      "Snippet: 18 Zeilen · 19.06.2020 · Hier erhalten Sie eine Übersicht über die Dividendenzahlung und … \n",
      "Prediction by clf: Financials \n",
      "Real Sector: Financials\n",
      "\n",
      " \n",
      "\n",
      "Company: DNB \n",
      "Snippet: www.dnb.deDNB Leipzig. Deutscher Platz 1 04103 Leipzig + 49 341 2271-0 + 49 341 2271-0. info-l@dnb.de. DNB Frankfurt. Adickesallee 1 60322 Frankfurt am Main + 49 69 1525-0 + 49 69 1525-0. info-f@dnb.de. An­fahrt Kon­tak­te Hinweis zur Verwendung von Cookies. Cookies erleichtern die Bereitstellung unserer Dienste. Mit der Nutzung unserer Dienste erklären Sie sich damit einverstanden, dass wir Cookies ... \n",
      "Prediction by clf: Industrials \n",
      "Real Sector: Financials\n",
      "\n",
      " \n",
      "\n",
      "Company: Boston Properties \n",
      "Snippet: Boston Properties, Inc., ist ein selbstverwalteter amerikanischer Immobilieninvestmenttrust mit 760 Mitarbeitern, der als Aktiengesellschaft an der NYSE gehandelt wird. Es ist als Eigentümer, Manager und Entwickler von Büroimmobilien in den USA präs…Neuer Inhalt wird bei Auswahl oberhalb des aktuellen Fokusbereichs hinzugefügtBoston Properties, Inc., ist ein selbstverwalteter amerikanischer Immobilieninvestmenttrust mit 760 Mitarbeitern, der als Aktiengesellschaft an der NYSE gehandelt wird. Es ist als Eigentümer, Manager und Entwickler von Büroimmobilien in den USA präsent. Die Immobilien in seinem Besitz befinden sich in den Städten Boston, Los Angeles, New York, San Francisco und Washington, DC. Das Unternehmen wurde 1970 von Mortimer B. Zuckerman und Edward H. Linde in Boston, Massachusetts, gegründet und unterhält dort seinen Hauptsitz. Boston Properties wurde im Juni 1997 in einen Real Estate Investment Trust umgewandelt und wird an der New Yorker Börse unter dem Symbol „BXP“ gehandelt. \n",
      "Prediction by clf: Financials \n",
      "Real Sector: Financials\n",
      "\n",
      " \n",
      "\n",
      "Company: NEC \n",
      "Snippet: NEC Deutschland GmbH provides “Solutions for Society” that promote the safety, security, fairness and eﬃciency of society. NEC aims to help solve a wide range of challenging issues and to create new social value for the changing world of tomorrow. \n",
      "Prediction by clf: Financials \n",
      "Real Sector: Information Technology\n",
      "\n",
      " \n",
      "\n",
      "Company: Eurazeo \n",
      "Snippet: Eurazeo mit Firmensitz in Paris ist ein börsennotiertes Beteiligungsunternehmen. Eurazeo entstand 2001 aus der Fusion der Unternehmen Eurafrance und Azeo, die ursprünglich als Holdinggesellschaften der Lazard-Gruppe in Frankreich dienten; die Bindu…Neuer Inhalt wird bei Auswahl oberhalb des aktuellen Fokusbereichs hinzugefügtEurazeo mit Firmensitz in Paris ist ein börsennotiertes Beteiligungsunternehmen. Eurazeo entstand 2001 aus der Fusion der Unternehmen Eurafrance und Azeo, die ursprünglich als Holdinggesellschaften der Lazard-Gruppe in Frankreich dienten; die Bindung Eurazeos an die Lazard-Gruppe wurde aber im Vorfeld von deren Börseneinführung gelöst. \n",
      "Prediction by clf: Utilities \n",
      "Real Sector: Financials\n",
      "\n",
      " \n",
      "\n"
     ]
    }
   ],
   "source": [
    "clf = svc\n",
    "for i in range(len(X_val)):\n",
    "    df_c = df.loc[df['Snippet'] == X_val.iloc[i]]\n",
    "    Company = df_c[\"Company\"].iloc[0]\n",
    "    Snippet = df_c[\"Snippet\"].iloc[0]\n",
    "    Prediction = clf.predict(prepare_snippets(df_c[\"Snippet\"].iloc[0]).reshape(1, -1))[0]\n",
    "    Sector = df_c[\"Sector\"].iloc[0]\n",
    "    print(f\"Company: {Company} \\nSnippet: {Snippet} \\nPrediction by clf: {Prediction} \\nReal Sector: {Sector}\")\n",
    "    print(\"\\n \\n\")\n"
   ]
  },
  {
   "cell_type": "code",
   "execution_count": null,
   "id": "dba861a3-63c1-4510-a3c3-08c7220501d8",
   "metadata": {},
   "outputs": [],
   "source": []
  }
 ],
 "metadata": {
  "kernelspec": {
   "display_name": "Python 3",
   "language": "python",
   "name": "python3"
  },
  "language_info": {
   "codemirror_mode": {
    "name": "ipython",
    "version": 3
   },
   "file_extension": ".py",
   "mimetype": "text/x-python",
   "name": "python",
   "nbconvert_exporter": "python",
   "pygments_lexer": "ipython3",
   "version": "3.9.4"
  }
 },
 "nbformat": 4,
 "nbformat_minor": 5
}
